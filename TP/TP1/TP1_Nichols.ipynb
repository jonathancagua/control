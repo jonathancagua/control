{
 "cells": [
  {
   "cell_type": "code",
   "execution_count": 1,
   "metadata": {},
   "outputs": [],
   "source": [
    "import numpy as np\n",
    "import matplotlib.pyplot as plt\n",
    "import pandas as pd\n",
    "import warnings\n",
    "warnings.filterwarnings('ignore')\n",
    "\n",
    "muestra = pd.read_csv('daq_log.csv')\n",
    "\n"
   ]
  },
  {
   "cell_type": "code",
   "execution_count": 2,
   "metadata": {},
   "outputs": [],
   "source": [
    "SAMPLES = 1000\n",
    "adc_float = muestra[1:SAMPLES]['ADC'].apply(lambda x: float(x))\n",
    "adc_convert = adc_float.divide(1024)\n",
    "dac_float = muestra[1:SAMPLES]['DAC'].apply(lambda x: float(x))\n",
    "dac_convert = dac_float.divide(1024)"
   ]
  },
  {
   "cell_type": "code",
   "execution_count": 3,
   "metadata": {},
   "outputs": [
    {
     "name": "stdout",
     "output_type": "stream",
     "text": [
      "1.022869022869023\n",
      "0.238\n",
      "Ku: 1.022869022869023, Tu: 0.238\n",
      "Kp: 0.6137214137214138, Ti: 0.119, Td: 0.02975\n"
     ]
    }
   ],
   "source": [
    "max_output_index = np.argmax(adc_convert)\n",
    "min_output_index = np.argmin(adc_convert[max_output_index:]) + max_output_index\n",
    "\n",
    "# Calcular Ku y Tu\n",
    "Ku = (dac_convert[max_output_index] - dac_convert[min_output_index]) / (adc_convert[max_output_index] - adc_convert[min_output_index])\n",
    "Tu = (min_output_index - max_output_index)/1000\n",
    "print(Ku)\n",
    "print(Tu)\n",
    "\n",
    "# Calcular Kp, Ti y Td utilizando las fórmulas de Ziegler-Nichols\n",
    "Kp = 0.6 * Ku\n",
    "Ti = 0.5 * Tu\n",
    "Td = 0.125 * Tu\n",
    "\n",
    "print(f\"Ku: {Ku}, Tu: {Tu}\")\n",
    "print(f\"Kp: {Kp}, Ti: {Ti}, Td: {Td}\")"
   ]
  }
 ],
 "metadata": {
  "kernelspec": {
   "display_name": "env",
   "language": "python",
   "name": "python3"
  },
  "language_info": {
   "codemirror_mode": {
    "name": "ipython",
    "version": 3
   },
   "file_extension": ".py",
   "mimetype": "text/x-python",
   "name": "python",
   "nbconvert_exporter": "python",
   "pygments_lexer": "ipython3",
   "version": "3.9.5"
  },
  "orig_nbformat": 4
 },
 "nbformat": 4,
 "nbformat_minor": 2
}
