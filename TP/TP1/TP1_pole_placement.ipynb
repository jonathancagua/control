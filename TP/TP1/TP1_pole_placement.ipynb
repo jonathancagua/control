{
 "cells": [
  {
   "cell_type": "code",
   "execution_count": 1,
   "metadata": {},
   "outputs": [
    {
     "data": {
      "text/latex": [
       "$$\\frac{1}{2 \\times 10^{-6} s^2 + 0.005 s + 1}$$"
      ],
      "text/plain": [
       "TransferFunction(array([1]), array([2.e-06, 5.e-03, 1.e+00]))"
      ]
     },
     "execution_count": 1,
     "metadata": {},
     "output_type": "execute_result"
    }
   ],
   "source": [
    "import numpy as np\n",
    "from scipy.linalg import expm\n",
    "from control import *\n",
    "import matplotlib.pyplot as plt\n",
    "\n",
    "r_1 = 2e3\n",
    "c_1 = 1e-6\n",
    "r_2 = 1e3\n",
    "c_2 = 1e-6\n",
    "\n",
    "s = tf('s')\n",
    "hs_1 = 1 / ((r_1*c_1*r_2*c_2)*s*s + (r_1*c_1+r_1*c_2+r_2*c_2)*s + 1)\n",
    "num_1, den_1 = tfdata(hs_1)\n",
    "num_1, den_1\n",
    "\n",
    "num_2 = np.array([1])\n",
    "den_2 = np.array([(r_1*c_1*r_2*c_2), (r_1*c_1+r_1*c_2+r_2*c_2), 1])\n",
    "hs_2 = tf(num_2, den_2)\n",
    "hs_2"
   ]
  },
  {
   "attachments": {},
   "cell_type": "markdown",
   "metadata": {},
   "source": [
    "Para realizar pole placement en la planta, primero debemos obtener la matriz de estado de la planta. Podemos obtener la matriz de estado A y la matriz de entrada B utilizando la función ss:"
   ]
  },
  {
   "cell_type": "code",
   "execution_count": 2,
   "metadata": {},
   "outputs": [],
   "source": [
    "sys = ss(hs_2)\n",
    "A, B, _, _ = sys.A, sys.B, sys.C, sys.D"
   ]
  },
  {
   "attachments": {},
   "cell_type": "markdown",
   "metadata": {},
   "source": [
    "Aquí, estamos creando un sistema de espacio de estado utilizando la función ss a partir de la función de transferencia hs_1. Luego, estamos extrayendo las matrices de estado A y B del sistema de espacio de estado.\n",
    "\n",
    "Podemos construir la matriz de salida C como:"
   ]
  },
  {
   "cell_type": "code",
   "execution_count": 3,
   "metadata": {},
   "outputs": [],
   "source": [
    "C = np.array([0, 1])"
   ]
  },
  {
   "attachments": {},
   "cell_type": "markdown",
   "metadata": {},
   "source": [
    "Aquí, estamos construyendo una matriz de una sola fila, donde la segunda columna es 1 para representar que la salida es la segunda variable de estado de la matriz de estado A.\n",
    "\n",
    "Ahora podemos realizar el pole placement utilizando la función place:"
   ]
  },
  {
   "cell_type": "code",
   "execution_count": 4,
   "metadata": {},
   "outputs": [
    {
     "data": {
      "text/plain": [
       "array([[  -2497., -499998.]])"
      ]
     },
     "execution_count": 4,
     "metadata": {},
     "output_type": "execute_result"
    }
   ],
   "source": [
    "p = [-1, -2]\n",
    "K = place(A, B, p)\n",
    "K\n"
   ]
  },
  {
   "attachments": {},
   "cell_type": "markdown",
   "metadata": {},
   "source": [
    "Aquí, estamos especificando los polos deseados p y calculando la matriz de realimentación de estado K utilizando la función place.\n",
    "\n",
    "Podemos crear el sistema de control utilizando la función ss y la matriz de realimentación de estado K:"
   ]
  },
  {
   "cell_type": "code",
   "execution_count": 5,
   "metadata": {},
   "outputs": [
    {
     "name": "stdout",
     "output_type": "stream",
     "text": [
      "[[  -2497. -499998.]]\n",
      "<LinearIOSystem>: sys[14]\n",
      "Inputs (1): ['u[0]']\n",
      "Outputs (1): ['y[0]']\n",
      "States (2): ['x[0]', 'x[1]']\n",
      "\n",
      "A = [[-3. -2.]\n",
      "     [ 1.  0.]]\n",
      "\n",
      "B = [[1.]\n",
      "     [0.]]\n",
      "\n",
      "C = [[0. 1.]]\n",
      "\n",
      "D = [[0.]]\n",
      "\n"
     ]
    }
   ],
   "source": [
    "sys_cl = ss(A - B @ K, B, C, 0)\n",
    "print(K)\n",
    "print(sys_cl)"
   ]
  },
  {
   "attachments": {},
   "cell_type": "markdown",
   "metadata": {},
   "source": [
    "Aquí, estamos creando un sistema de control de retroalimentación de estado con la matriz de estado A - B @ K, la matriz de entrada B, la matriz de salida C y una ganancia de entrada nula.\n",
    "\n",
    "Finalmente, podemos simular la respuesta del sistema de control utilizando la función step y graficar los resultados:"
   ]
  },
  {
   "cell_type": "code",
   "execution_count": 6,
   "metadata": {},
   "outputs": [
    {
     "data": {
      "image/png": "[encoded data removed]",
      "text/plain": [
       "<Figure size 640x480 with 1 Axes>"
      ]
     },
     "metadata": {},
     "output_type": "display_data"
    }
   ],
   "source": [
    "t, y = step_response(sys_cl)\n",
    "plt.plot(t, y)\n",
    "plt.grid()\n",
    "plt.show()"
   ]
  }
 ],
 "metadata": {
  "kernelspec": {
   "display_name": "env",
   "language": "python",
   "name": "python3"
  },
  "language_info": {
   "codemirror_mode": {
    "name": "ipython",
    "version": 3
   },
   "file_extension": ".py",
   "mimetype": "text/x-python",
   "name": "python",
   "nbconvert_exporter": "python",
   "pygments_lexer": "ipython3",
   "version": "3.9.5"
  },
  "orig_nbformat": 4
 },
 "nbformat": 4,
 "nbformat_minor": 2
}
